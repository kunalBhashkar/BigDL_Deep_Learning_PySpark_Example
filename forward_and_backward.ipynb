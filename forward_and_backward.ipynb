{
 "cells": [
  {
   "cell_type": "markdown",
   "metadata": {},
   "source": [
    "# PySpark Forward and backward"
   ]
  },
  {
   "cell_type": "code",
   "execution_count": 1,
   "metadata": {},
   "outputs": [
    {
     "name": "stdout",
     "output_type": "stream",
     "text": [
      "Prepending /home/kunal/anaconda3/envs/deep_learning/lib/python3.6/site-packages/bigdl/share/conf/spark-bigdl.conf to sys.path\n"
     ]
    }
   ],
   "source": [
    "#import packages\n",
    "from bigdl.nn.layer import *\n",
    "from bigdl.nn.criterion import *\n",
    "import numpy as np"
   ]
  },
  {
   "cell_type": "code",
   "execution_count": 2,
   "metadata": {},
   "outputs": [
    {
     "name": "stdout",
     "output_type": "stream",
     "text": [
      "creating: createLinear\n",
      "{'Linear38b739ac': {'weight': array([[-0.54629785, -0.6459563 ]], dtype=float32), 'bias': array([-0.7046934], dtype=float32), 'gradBias': array([0.], dtype=float32), 'gradWeight': array([[0., 0.]], dtype=float32)}}\n"
     ]
    }
   ],
   "source": [
    "# the input data size is 2*1, the output size is 1*1\n",
    "linear = Linear(2, 1)\n",
    "# print the randomly initialized parameters\n",
    "print(linear.parameters())"
   ]
  },
  {
   "cell_type": "code",
   "execution_count": 3,
   "metadata": {},
   "outputs": [
    {
     "name": "stdout",
     "output_type": "stream",
     "text": [
      "[0.04092133]\n"
     ]
    }
   ],
   "source": [
    "input = np.array([1,-2])\n",
    "# forward to output\n",
    "output = linear.forward(input)\n",
    "print(output)"
   ]
  },
  {
   "cell_type": "code",
   "execution_count": 4,
   "metadata": {},
   "outputs": [
    {
     "name": "stdout",
     "output_type": "stream",
     "text": [
      "creating: createAbsCriterion\n"
     ]
    }
   ],
   "source": [
    "# mean absolute error\n",
    "mae = AbsCriterion()\n",
    "target = np.array([0])"
   ]
  },
  {
   "cell_type": "code",
   "execution_count": 5,
   "metadata": {},
   "outputs": [
    {
     "name": "stdout",
     "output_type": "stream",
     "text": [
      "loss: 0.04092133\n"
     ]
    }
   ],
   "source": [
    "#Find loss\n",
    "loss = mae.forward(output, target)\n",
    "print(\"loss: \" + str(loss))"
   ]
  },
  {
   "cell_type": "code",
   "execution_count": 6,
   "metadata": {},
   "outputs": [
    {
     "name": "stdout",
     "output_type": "stream",
     "text": [
      "{'Linear38b739ac': {'weight': array([[-0.54629785, -0.6459563 ]], dtype=float32), 'bias': array([-0.7046934], dtype=float32), 'gradBias': array([1.], dtype=float32), 'gradWeight': array([[ 1., -2.]], dtype=float32)}}\n"
     ]
    }
   ],
   "source": [
    "#Gradient of the weights with respect to the loss\n",
    "grad_output = mae.backward(output, target)\n",
    "linear.backward(input, grad_output)\n",
    "\n",
    "print(linear.parameters())"
   ]
  }
 ],
 "metadata": {
  "kernelspec": {
   "display_name": "Python 3",
   "language": "python",
   "name": "python3"
  },
  "language_info": {
   "codemirror_mode": {
    "name": "ipython",
    "version": 3
   },
   "file_extension": ".py",
   "mimetype": "text/x-python",
   "name": "python",
   "nbconvert_exporter": "python",
   "pygments_lexer": "ipython3",
   "version": "3.6.12"
  }
 },
 "nbformat": 4,
 "nbformat_minor": 2
}
