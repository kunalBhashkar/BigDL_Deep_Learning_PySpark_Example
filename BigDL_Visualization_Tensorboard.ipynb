{
 "cells": [
  {
   "cell_type": "markdown",
   "metadata": {},
   "source": [
    "## BigDL Visualization on Tensorboard\n",
    "\n",
    "**Problem Statement**\n",
    "\n",
    "MNIST dataset to train a lenet-5 model, and visualize this training using jupyter and tensorboard."
   ]
  },
  {
   "cell_type": "code",
   "execution_count": 1,
   "metadata": {},
   "outputs": [
    {
     "name": "stdout",
     "output_type": "stream",
     "text": [
      "Populating the interactive namespace from numpy and matplotlib\n",
      "Prepending /home/kunal/anaconda3/envs/deep_learning/lib/python3.6/site-packages/bigdl/share/conf/spark-bigdl.conf to sys.path\n"
     ]
    },
    {
     "name": "stderr",
     "output_type": "stream",
     "text": [
      "/home/kunal/anaconda3/envs/deep_learning/lib/python3.6/site-packages/bigdl/util/engine.py:41: UserWarning: Find both SPARK_HOME and pyspark. You may need to check whether they match with each other. SPARK_HOME environment variable is set to: /home/kunal/Downloads/spark-2.4.7-bin-hadoop2.7/, and pyspark is found in: /home/kunal/anaconda3/envs/deep_learning/lib/python3.6/site-packages/pyspark/__init__.py. If they are unmatched, please use one source only to avoid conflict. For example, you can unset SPARK_HOME and use pyspark only.\n",
      "  warnings.warn(warning_msg)\n"
     ]
    }
   ],
   "source": [
    "#import packages\n",
    "import matplotlib\n",
    "matplotlib.use('Agg')\n",
    "%pylab inline\n",
    "import datetime as dt\n",
    "import tempfile\n",
    "import sys\n",
    "import os\n",
    "from utils import get_mnist\n",
    "from bigdl.nn.layer import *\n",
    "from bigdl.nn.criterion import *\n",
    "from bigdl.optim.optimizer import *\n",
    "from bigdl.util.common import *\n",
    "from bigdl.dataset.transformer import *\n",
    "from bigdl.dataset import mnist\n",
    "from matplotlib.pyplot import imshow\n",
    "import matplotlib.pyplot as plt\n",
    "from pyspark import SparkContext\n",
    "from IPython.display import Markdown, display\n",
    "#Creating Spark Context\n",
    "sc=SparkContext.getOrCreate(conf=create_spark_conf().setMaster(\"local[4]\").set(\"spark.driver.memory\",\"8g\"))\n",
    "\n",
    "init_engine()"
   ]
  },
  {
   "cell_type": "code",
   "execution_count": 2,
   "metadata": {},
   "outputs": [],
   "source": [
    "#Setting the path for Spark\n",
    "os.environ['JAVA_HOME']=\"/usr/lib/jvm/java-8-oracle\"\n",
    "os.environ['SPARK_HOME'] = \"/home/kunal/Downloads/spark-2.4.7-bin-hadoop2.7\"\n",
    "os.environ['HADOOP_HOME'] = \"/usr/local/hadoop/bin\"\n",
    "os.environ['YARN_CONF_DIR'] = \"/usr/local/hadoop/etc/hadoop\"\n",
    "os.environ['BIGDL_HOME'] = \"/home/kunal/anaconda3/envs/deep_learning/lib/python3.6/site-packages/bigdl/share/bin\"\n",
    "os.environ['PYSPARK_SUBMIT_ARGS'] = '--jars /home/kunal/Downloads/jarfiles/bigdl-SPARK_2.2-0.7.0-jar-with-dependencies.jar --packages org.apache.spark:spark-sql-kafka-0-10_2.11:2.4.3,org.apache.spark:spark-streaming-kafka-0-10_2.11:2.4.3 pyspark-shell'"
   ]
  },
  {
   "cell_type": "markdown",
   "metadata": {},
   "source": [
    "### Train "
   ]
  },
  {
   "cell_type": "code",
   "execution_count": 5,
   "metadata": {},
   "outputs": [
    {
     "name": "stdout",
     "output_type": "stream",
     "text": [
      "Downloading data from http://yann.lecun.com/exdb/mnist/train-images-idx3-ubyte.gz\n",
      "9912320/9912422 [============================>.] - ETA: 0sSuccessfully downloaded train-images-idx3-ubyte.gz 9912422 bytes.\n",
      "Extracting datasets/mnist/train-images-idx3-ubyte.gz\n",
      "Downloading data from http://yann.lecun.com/exdb/mnist/train-labels-idx1-ubyte.gz\n",
      "16384/28881 [================>.............] - ETA: 0sSuccessfully downloaded train-labels-idx1-ubyte.gz 28881 bytes.\n",
      "Extracting datasets/mnist/train-labels-idx1-ubyte.gz\n",
      "Downloading data from http://yann.lecun.com/exdb/mnist/t10k-images-idx3-ubyte.gz\n",
      "1638400/1648877 [============================>.] - ETA: 0sSuccessfully downloaded t10k-images-idx3-ubyte.gz 1648877 bytes.\n",
      "Extracting datasets/mnist/t10k-images-idx3-ubyte.gz\n",
      "Downloading data from http://yann.lecun.com/exdb/mnist/t10k-labels-idx1-ubyte.gz\n",
      "8192/4542 [======================================================] - 0s\n",
      "Successfully downloaded t10k-labels-idx1-ubyte.gz 4542 bytes.\n",
      "Extracting datasets/mnist/t10k-labels-idx1-ubyte.gz\n",
      "60000\n",
      "10000\n"
     ]
    }
   ],
   "source": [
    "# Get and store MNIST into RDD of Sample\n",
    "mnist_path = \"./data/mnist\"\n",
    "(train_data, test_data) = get_mnist(sc, mnist_path)\n",
    "\n",
    "print(train_data.count())\n",
    "print(test_data.count())"
   ]
  },
  {
   "cell_type": "code",
   "execution_count": 6,
   "metadata": {},
   "outputs": [
    {
     "name": "stdout",
     "output_type": "stream",
     "text": [
      "creating: createReshape\n",
      "creating: createSpatialConvolution\n",
      "creating: createTanh\n",
      "creating: createSpatialMaxPooling\n",
      "creating: createTanh\n",
      "creating: createSpatialConvolution\n",
      "creating: createSpatialMaxPooling\n",
      "creating: createReshape\n",
      "creating: createLinear\n",
      "creating: createTanh\n",
      "creating: createLinear\n",
      "creating: createLogSoftMax\n",
      "creating: createModel\n"
     ]
    }
   ],
   "source": [
    "# Create a LeNet-5 model\n",
    "def build_model(class_num):\n",
    "    input = Reshape([1, 28, 28]).set_name(\"reshape_1_28_28\")()\n",
    "    conv1 = SpatialConvolution(1, 6, 5, 5).set_name(\"conv1_5x5\")(input)\n",
    "    tanh1 = Tanh().set_name(\"tanh1\")(conv1)\n",
    "    pool1 = SpatialMaxPooling(2, 2, 2, 2).set_name(\"pool1_2x2\")(tanh1)\n",
    "    tanh2 = Tanh().set_name(\"tanh2\")(pool1)\n",
    "    conv2 = SpatialConvolution(6, 12, 5, 5).set_name(\"conv2_5x5\")(tanh2)\n",
    "    pool2 = SpatialMaxPooling(2, 2, 2, 2).set_name(\"pool2_2x2\")(conv2)\n",
    "    reshape = Reshape([12 * 4 * 4]).set_name(\"reshape_192\")(pool2)\n",
    "    fc1 = Linear(12 * 4 * 4, 100).set_name(\"fc_192_100\")(reshape)\n",
    "    tanh3 = Tanh().set_name(\"tanh3\")(fc1)\n",
    "    fc2 = Linear(100, class_num).set_name(\"fc_100_\" + str(class_num))(tanh3)\n",
    "    output = LogSoftMax().set_name(\"classifier\")(fc2)\n",
    "\n",
    "    model = Model(input, output)\n",
    "    return model\n",
    "lenet_model = build_model(10)"
   ]
  },
  {
   "cell_type": "code",
   "execution_count": 7,
   "metadata": {},
   "outputs": [
    {
     "name": "stdout",
     "output_type": "stream",
     "text": [
      "creating: createClassNLLCriterion\n",
      "creating: createDefault\n",
      "creating: createSGD\n",
      "creating: createMaxEpoch\n",
      "creating: createDistriOptimizer\n",
      "creating: createEveryEpoch\n",
      "creating: createTop1Accuracy\n",
      "creating: createClassNLLCriterion\n",
      "creating: createLoss\n"
     ]
    },
    {
     "name": "stderr",
     "output_type": "stream",
     "text": [
      "/home/kunal/anaconda3/envs/deep_learning/lib/python3.6/site-packages/bigdl/optim/optimizer.py:864: UserWarning: You are recommended to use `create` method to create an optimizer.\n",
      "  warnings.warn(\"You are recommended to use `create` method to create an optimizer.\")\n"
     ]
    }
   ],
   "source": [
    "# Create an Optimizer\n",
    "optimizer = Optimizer(\n",
    "    model=lenet_model,\n",
    "    training_rdd=train_data,\n",
    "    criterion=ClassNLLCriterion(),\n",
    "    optim_method=SGD(learningrate=0.4, learningrate_decay=0.0002),\n",
    "    end_trigger=MaxEpoch(5),\n",
    "    batch_size=256)\n",
    "\n",
    "# Set the validation logic\n",
    "optimizer.set_validation(\n",
    "    batch_size=256,\n",
    "    val_rdd=test_data,\n",
    "    trigger=EveryEpoch(),\n",
    "    val_method=[Top1Accuracy(), Loss()]\n",
    ")"
   ]
  },
  {
   "cell_type": "markdown",
   "metadata": {},
   "source": [
    "**Note:**\n",
    "\n",
    "Will create a TrainSummary and a ValSummary and set them to Optimizer to enable metrics collecting. By default, BigDL only collect throughput, loss, and validation result during the Training. We can use \n",
    "`train_summary.set_summary_trigger` to enable more metrics, like `Parameters` and `LearningRate`."
   ]
  },
  {
   "cell_type": "code",
   "execution_count": 8,
   "metadata": {},
   "outputs": [],
   "source": [
    "#creating Log directory\n",
    "log_dir=tempfile.mkdtemp() # use a tmp folder\n",
    "app_name='lenet-'+dt.datetime.now().strftime(\"%Y%m%d-%H%M%S\")"
   ]
  },
  {
   "cell_type": "code",
   "execution_count": 9,
   "metadata": {},
   "outputs": [
    {
     "name": "stdout",
     "output_type": "stream",
     "text": [
      "creating: createTrainSummary\n",
      "creating: createSeveralIteration\n",
      "creating: createSeveralIteration\n"
     ]
    },
    {
     "data": {
      "text/plain": [
       "JavaObject id=o201"
      ]
     },
     "execution_count": 9,
     "metadata": {},
     "output_type": "execute_result"
    }
   ],
   "source": [
    "# create TrainSummary\n",
    "train_summary = TrainSummary(log_dir=log_dir, app_name=app_name)\n",
    "train_summary.set_summary_trigger(\"Parameters\", SeveralIteration(50))\n",
    "train_summary.set_summary_trigger(\"LearningRate\", SeveralIteration(1))"
   ]
  },
  {
   "cell_type": "code",
   "execution_count": 10,
   "metadata": {},
   "outputs": [
    {
     "name": "stdout",
     "output_type": "stream",
     "text": [
      "creating: createValidationSummary\n"
     ]
    },
    {
     "data": {
      "text/plain": [
       "<bigdl.optim.optimizer.Optimizer at 0x7fb5e02ce860>"
      ]
     },
     "execution_count": 10,
     "metadata": {},
     "output_type": "execute_result"
    }
   ],
   "source": [
    "# create ValSummary\n",
    "val_summary = ValidationSummary(log_dir=log_dir, app_name=app_name)\n",
    "# set TrainSummary and ValSummary to \n",
    "optimizer.set_train_summary(train_summary)\n",
    "optimizer.set_val_summary(val_summary)"
   ]
  },
  {
   "cell_type": "code",
   "execution_count": 11,
   "metadata": {},
   "outputs": [
    {
     "name": "stdout",
     "output_type": "stream",
     "text": [
      "Will saving logs to /tmp/tmp1400sz2q/lenet-20210104-212158\n"
     ]
    },
    {
     "data": {
      "text/markdown": [
       "You can run shell command, **tensorboard --logdir=/tmp/tmp1400sz2q**, to visualize this training"
      ],
      "text/plain": [
       "<IPython.core.display.Markdown object>"
      ]
     },
     "metadata": {},
     "output_type": "display_data"
    }
   ],
   "source": [
    "print(\"Will saving logs to\",log_dir + \"/\" + app_name)\n",
    "display(Markdown(\"You can run shell command, **tensorboard --logdir=%s**, to visualize this training\" % log_dir))"
   ]
  },
  {
   "cell_type": "code",
   "execution_count": 14,
   "metadata": {},
   "outputs": [
    {
     "name": "stdout",
     "output_type": "stream",
     "text": [
      "Optimization Done.\n"
     ]
    }
   ],
   "source": [
    "# Boot training process\n",
    "trained_model = optimizer.optimize()\n",
    "print(\"Optimization Done.\")"
   ]
  },
  {
   "cell_type": "markdown",
   "metadata": {},
   "source": [
    "### Visualization"
   ]
  },
  {
   "cell_type": "code",
   "execution_count": 17,
   "metadata": {},
   "outputs": [],
   "source": [
    "%load_ext tensorboard"
   ]
  },
  {
   "cell_type": "code",
   "execution_count": 18,
   "metadata": {},
   "outputs": [
    {
     "data": {
      "text/html": [
       "\n",
       "        <iframe\n",
       "            width=\"100%\"\n",
       "            height=\"800\"\n",
       "            src=\"http://localhost:6007\"\n",
       "            frameborder=\"0\"\n",
       "            allowfullscreen\n",
       "        ></iframe>\n",
       "        "
      ],
      "text/plain": [
       "<IPython.lib.display.IFrame at 0x7fb5ff460470>"
      ]
     },
     "metadata": {},
     "output_type": "display_data"
    }
   ],
   "source": [
    "%tensorboard --logdir=/tmp/tmp1400sz2q"
   ]
  },
  {
   "cell_type": "markdown",
   "metadata": {},
   "source": [
    "* You can also use `Model.save_graph_topology` method to save graph's topology, and visualize the graph in TensorBoard."
   ]
  },
  {
   "cell_type": "code",
   "execution_count": 19,
   "metadata": {},
   "outputs": [
    {
     "name": "stdout",
     "output_type": "stream",
     "text": [
      "Saving graph topology to /tmp/tmp1400sz2q/lenet-20210104-212158/lenet-model\n"
     ]
    }
   ],
   "source": [
    "lenet_model.save_graph_topology(log_dir + \"/\" + app_name + \"/lenet-model\")\n",
    "print(\"Saving graph topology to\", log_dir + \"/\" + app_name + \"/lenet-model\")"
   ]
  },
  {
   "cell_type": "code",
   "execution_count": 20,
   "metadata": {},
   "outputs": [
    {
     "data": {
      "text/html": [
       "\n",
       "        <iframe\n",
       "            width=\"100%\"\n",
       "            height=\"800\"\n",
       "            src=\"http://localhost:6008\"\n",
       "            frameborder=\"0\"\n",
       "            allowfullscreen\n",
       "        ></iframe>\n",
       "        "
      ],
      "text/plain": [
       "<IPython.lib.display.IFrame at 0x7fb5ff4602b0>"
      ]
     },
     "metadata": {},
     "output_type": "display_data"
    }
   ],
   "source": [
    "#visualize the graph in TensorBoard\n",
    "%tensorboard --logdir=/tmp/tmp1400sz2q/lenet-20210104-212158/lenet-model"
   ]
  },
  {
   "cell_type": "code",
   "execution_count": 21,
   "metadata": {
    "scrolled": true
   },
   "outputs": [
    {
     "data": {
      "text/plain": [
       "Text(0.5,1,'top1 accuracy')"
      ]
     },
     "execution_count": 21,
     "metadata": {},
     "output_type": "execute_result"
    },
    {
     "data": {
      "image/png": "[encoded data removed]",
      "text/plain": [
       "<Figure size 864x864 with 3 Axes>"
      ]
     },
     "metadata": {
      "needs_background": "light"
     },
     "output_type": "display_data"
    }
   ],
   "source": [
    "#Train and Validation Summary using Matplotlib\n",
    "loss = np.array(train_summary.read_scalar(\"Loss\"))\n",
    "lr = np.array(train_summary.read_scalar(\"LearningRate\"))\n",
    "top1 = np.array(val_summary.read_scalar(\"Top1Accuracy\"))\n",
    "\n",
    "plt.figure(figsize = (12,12))\n",
    "plt.subplot(3,1,1)\n",
    "plt.plot(loss[:,0],loss[:,1],label='loss')\n",
    "plt.xlim(0,loss.shape[0]+10)\n",
    "plt.grid(True)\n",
    "plt.title(\"training loss\")\n",
    "\n",
    "plt.subplot(3,1,2)\n",
    "plt.plot(lr[:,0],lr[:,1],label='lr')\n",
    "plt.xlim(0,lr.shape[0]+10)\n",
    "plt.title(\"learning rate\")\n",
    "plt.grid(True)\n",
    "\n",
    "plt.subplot(3,1,3)\n",
    "plt.plot(top1[:,0],top1[:,1],label='top1')\n",
    "plt.xlim(0,loss.shape[0]+10)\n",
    "plt.grid(True)\n",
    "plt.title(\"top1 accuracy\")"
   ]
  }
 ],
 "metadata": {
  "kernelspec": {
   "display_name": "Python 3",
   "language": "python",
   "name": "python3"
  },
  "language_info": {
   "codemirror_mode": {
    "name": "ipython",
    "version": 3
   },
   "file_extension": ".py",
   "mimetype": "text/x-python",
   "name": "python",
   "nbconvert_exporter": "python",
   "pygments_lexer": "ipython3",
   "version": "3.6.12"
  }
 },
 "nbformat": 4,
 "nbformat_minor": 2
}
