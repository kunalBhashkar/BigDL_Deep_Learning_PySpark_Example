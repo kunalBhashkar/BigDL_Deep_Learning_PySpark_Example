{
 "cells": [
  {
   "cell_type": "markdown",
   "metadata": {},
   "source": [
    "### Spark SQL"
   ]
  },
  {
   "cell_type": "code",
   "execution_count": 1,
   "metadata": {},
   "outputs": [
    {
     "name": "stdout",
     "output_type": "stream",
     "text": [
      "+--------------------+----+\n",
      "|             address|name|\n",
      "+--------------------+----+\n",
      "|[Los Angeles,Cali...| Bob|\n",
      "|[Seattle,Washington]|Adam|\n",
      "+--------------------+----+\n",
      "\n"
     ]
    }
   ],
   "source": [
    "#import packages\n",
    "from pyspark import SparkContext\n",
    "from bigdl.util.common import *\n",
    "from pyspark.sql import SparkSession\n",
    "\n",
    "sc = SparkContext('local')\n",
    "spark= SparkSession(sc)\n",
    "\n",
    "json_strings = ['{\"name\":\"Bob\",\"address\":{\"city\":\"Los Angeles\",\"state\":\"California\"}}', \n",
    "               '{\"name\":\"Adam\",\"address\":{\"city\":\"Seattle\",\"state\":\"Washington\"}}']\n",
    "# Defines an RDD from the Python list.\n",
    "peopleRDD = sc.parallelize(json_strings)\n",
    "# Creates an DataFrame from an RDD[String].\n",
    "people = spark.read.json(peopleRDD)\n",
    "people.show()"
   ]
  },
  {
   "cell_type": "markdown",
   "metadata": {},
   "source": [
    "Now we register the DataFrame as a SQL temporary view using the funtion *sql* which returns the result as a *DataFrame*, and then we can run SQL queries."
   ]
  },
  {
   "cell_type": "code",
   "execution_count": 2,
   "metadata": {},
   "outputs": [
    {
     "name": "stdout",
     "output_type": "stream",
     "text": [
      "+--------------------+----+\n",
      "|             address|name|\n",
      "+--------------------+----+\n",
      "|[Seattle,Washington]|Adam|\n",
      "+--------------------+----+\n",
      "\n"
     ]
    }
   ],
   "source": [
    "people.createOrReplaceTempView(\"people\")\n",
    "\n",
    "sqlDF = spark.sql(\"SELECT * FROM people\").filter(people['name']==\"Adam\")\n",
    "sqlDF.show()"
   ]
  },
  {
   "cell_type": "markdown",
   "metadata": {},
   "source": [
    "You can learn more information about Spark SQL [here](http://spark.apache.org/docs/latest/sql-programming-guide.html#running-sql-queries-programmatically)."
   ]
  }
 ],
 "metadata": {
  "kernelspec": {
   "display_name": "Python 3",
   "language": "python",
   "name": "python3"
  },
  "language_info": {
   "codemirror_mode": {
    "name": "ipython",
    "version": 3
   },
   "file_extension": ".py",
   "mimetype": "text/x-python",
   "name": "python",
   "nbconvert_exporter": "python",
   "pygments_lexer": "ipython3",
   "version": "3.6.12"
  }
 },
 "nbformat": 4,
 "nbformat_minor": 2
}
