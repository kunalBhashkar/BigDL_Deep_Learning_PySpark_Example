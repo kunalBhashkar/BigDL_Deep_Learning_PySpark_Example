{
 "cells": [
  {
   "cell_type": "markdown",
   "metadata": {},
   "source": [
    "### Linear Regression"
   ]
  },
  {
   "cell_type": "code",
   "execution_count": 1,
   "metadata": {},
   "outputs": [
    {
     "name": "stdout",
     "output_type": "stream",
     "text": [
      "Populating the interactive namespace from numpy and matplotlib\n"
     ]
    },
    {
     "name": "stderr",
     "output_type": "stream",
     "text": [
      "/home/kunal/anaconda3/envs/deep_learning/lib/python3.6/site-packages/bigdl/util/engine.py:41: UserWarning: Find both SPARK_HOME and pyspark. You may need to check whether they match with each other. SPARK_HOME environment variable is set to: /home/kunal/Downloads/spark-2.4.7-bin-hadoop2.7/, and pyspark is found in: /home/kunal/anaconda3/envs/deep_learning/lib/python3.6/site-packages/pyspark/__init__.py. If they are unmatched, please use one source only to avoid conflict. For example, you can unset SPARK_HOME and use pyspark only.\n",
      "  warnings.warn(warning_msg)\n"
     ]
    },
    {
     "name": "stdout",
     "output_type": "stream",
     "text": [
      "Prepending /home/kunal/anaconda3/envs/deep_learning/lib/python3.6/site-packages/bigdl/share/conf/spark-bigdl.conf to sys.path\n"
     ]
    }
   ],
   "source": [
    "#import packages\n",
    "import matplotlib\n",
    "matplotlib.use('Agg')\n",
    "%pylab inline\n",
    "import pandas\n",
    "import datetime as dt\n",
    "\n",
    "from bigdl.nn.layer import *\n",
    "from bigdl.nn.criterion import *\n",
    "from bigdl.optim.optimizer import *\n",
    "from bigdl.util.common import *\n",
    "from bigdl.util.common import Sample\n",
    "import matplotlib.pyplot as plt\n",
    "from bigdl.dataset.transformer import *\n",
    "from matplotlib.pyplot import imshow\n",
    "from pyspark import SparkContext\n",
    "#Creating Spark Context\n",
    "sc=SparkContext.getOrCreate(conf=create_spark_conf().setMaster(\"local[4]\").set(\"spark.driver.memory\",\"8g\"))\n",
    "init_engine()"
   ]
  },
  {
   "cell_type": "code",
   "execution_count": 2,
   "metadata": {},
   "outputs": [],
   "source": [
    "#Setting the path for Spark\n",
    "os.environ['JAVA_HOME']=\"/usr/lib/jvm/java-8-oracle\"\n",
    "os.environ['SPARK_HOME'] = \"/home/kunal/Downloads/spark-2.4.7-bin-hadoop2.7\"\n",
    "os.environ['HADOOP_HOME'] = \"/usr/local/hadoop/bin\"\n",
    "os.environ['YARN_CONF_DIR'] = \"/usr/local/hadoop/etc/hadoop\"\n",
    "os.environ['BIGDL_HOME'] = \"/home/kunal/anaconda3/envs/deep_learning/lib/python3.6/site-packages/bigdl/share/bin\"\n",
    "os.environ['PYSPARK_SUBMIT_ARGS'] = '--jars /home/kunal/Downloads/jarfiles/bigdl-SPARK_2.2-0.7.0-jar-with-dependencies.jar --packages org.apache.spark:spark-sql-kafka-0-10_2.11:2.4.3,org.apache.spark:spark-streaming-kafka-0-10_2.11:2.4.3 pyspark-shell'"
   ]
  },
  {
   "cell_type": "code",
   "execution_count": 3,
   "metadata": {},
   "outputs": [],
   "source": [
    "#Generate random training dataset\n",
    "FEATURES_DIM = 2\n",
    "data_len = 100\n",
    "\n",
    "def gen_rand_sample():\n",
    "    features = np.random.uniform(0, 1, (FEATURES_DIM))\n",
    "    label = (2 * features).sum() + 0.4\n",
    "    return Sample.from_ndarray(features, label)\n",
    "\n",
    "rdd_train = sc.parallelize(range(0, data_len)).map( lambda i: gen_rand_sample() )"
   ]
  },
  {
   "cell_type": "code",
   "execution_count": 4,
   "metadata": {},
   "outputs": [
    {
     "name": "stdout",
     "output_type": "stream",
     "text": [
      "creating: createSequential\n",
      "creating: createLinear\n"
     ]
    }
   ],
   "source": [
    "# HyperParameters\n",
    "learning_rate = 0.2\n",
    "training_epochs = 5\n",
    "batch_size = 4\n",
    "n_input = FEATURES_DIM\n",
    "n_output = 1 \n",
    "#Linear Regression Algorithm\n",
    "def linear_regression(n_input, n_output):\n",
    "    # Initialize a sequential container\n",
    "    model = Sequential()  \n",
    "    # Add a linear layer\n",
    "    model.add(Linear(n_input, n_output)) \n",
    "    return model\n",
    "\n",
    "model = linear_regression(n_input, n_output)"
   ]
  },
  {
   "cell_type": "code",
   "execution_count": 5,
   "metadata": {},
   "outputs": [
    {
     "name": "stdout",
     "output_type": "stream",
     "text": [
      "creating: createMSECriterion\n",
      "creating: createDefault\n",
      "creating: createSGD\n",
      "creating: createMaxEpoch\n",
      "creating: createDistriOptimizer\n"
     ]
    },
    {
     "name": "stderr",
     "output_type": "stream",
     "text": [
      "/home/kunal/anaconda3/envs/deep_learning/lib/python3.6/site-packages/bigdl/optim/optimizer.py:864: UserWarning: You are recommended to use `create` method to create an optimizer.\n",
      "  warnings.warn(\"You are recommended to use `create` method to create an optimizer.\")\n"
     ]
    }
   ],
   "source": [
    "# Create an Optimizer\n",
    "optimizer = Optimizer(\n",
    "    model=model,\n",
    "    training_rdd=rdd_train,\n",
    "    criterion=MSECriterion(),\n",
    "    optim_method=SGD(learningrate=learning_rate),\n",
    "    end_trigger=MaxEpoch(training_epochs),\n",
    "    batch_size=batch_size)"
   ]
  },
  {
   "cell_type": "code",
   "execution_count": 6,
   "metadata": {},
   "outputs": [],
   "source": [
    "# Start to train\n",
    "trained_model = optimizer.optimize()"
   ]
  },
  {
   "cell_type": "markdown",
   "metadata": {},
   "source": [
    "### Prediction "
   ]
  },
  {
   "cell_type": "code",
   "execution_count": 7,
   "metadata": {},
   "outputs": [
    {
     "name": "stdout",
     "output_type": "stream",
     "text": [
      "predict predict: \n",
      "\n",
      "[0.9467994]\n",
      "\n",
      "[3.5498652]\n",
      "\n",
      "[1.4144161]\n",
      "\n",
      "[1.5263456]\n",
      "\n",
      "[3.3159566]\n",
      "\n"
     ]
    }
   ],
   "source": [
    "# Print the first five predicted results of training data.\n",
    "predict_result = trained_model.predict(rdd_train)\n",
    "p = predict_result.take(5)\n",
    "\n",
    "print(\"predict predict: \\n\")\n",
    "for i in p:\n",
    "    print(str(i) + \"\\n\")"
   ]
  },
  {
   "cell_type": "markdown",
   "metadata": {},
   "source": [
    "### Model evaluation "
   ]
  },
  {
   "cell_type": "code",
   "execution_count": 8,
   "metadata": {},
   "outputs": [
    {
     "name": "stdout",
     "output_type": "stream",
     "text": [
      "8.142346\n"
     ]
    }
   ],
   "source": [
    "#Method for Test Prediction\n",
    "def test_predict(trained_model):\n",
    "    np.random.seed(100)\n",
    "    total_length = 10\n",
    "    features = np.random.uniform(0, 1, (total_length, 2))\n",
    "    label = (features).sum() + 0.4\n",
    "    predict_data = sc.parallelize(range(0, total_length)).map(\n",
    "        lambda i: Sample.from_ndarray(features[i], label))\n",
    "    \n",
    "    predict_result = trained_model.predict(predict_data)\n",
    "    p = predict_result.take(6)\n",
    "    ground_label = np.array([[-0.47596836], [-0.37598032], [-0.00492062],\n",
    "                                 [-0.5906958], [-0.12307882], [-0.77907401]], dtype=\"float32\")\n",
    "    mse = ((p - ground_label) ** 2).mean()\n",
    "    print(mse)\n",
    "    \n",
    "test_predict(trained_model)"
   ]
  }
 ],
 "metadata": {
  "kernelspec": {
   "display_name": "Python 3",
   "language": "python",
   "name": "python3"
  },
  "language_info": {
   "codemirror_mode": {
    "name": "ipython",
    "version": 3
   },
   "file_extension": ".py",
   "mimetype": "text/x-python",
   "name": "python",
   "nbconvert_exporter": "python",
   "pygments_lexer": "ipython3",
   "version": "3.6.12"
  }
 },
 "nbformat": 4,
 "nbformat_minor": 2
}
